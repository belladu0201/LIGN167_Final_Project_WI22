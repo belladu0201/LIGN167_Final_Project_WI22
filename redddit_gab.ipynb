{
 "cells": [
  {
   "cell_type": "code",
   "execution_count": 2,
   "metadata": {},
   "outputs": [],
   "source": [
    "import pandas as pd\n",
    "import numpy as np\n",
    "# import ujson as json\n",
    "import time, datetime\n",
    "import torch, nltk, re, random\n",
    "from transformers import BertTokenizer\n",
    "from nltk.stem.porter import *\n",
    "from torch.utils.data import TensorDataset, random_split, DataLoader, RandomSampler, SequentialSampler\n",
    "\n",
    "\n",
    "import warnings\n",
    "warnings.filterwarnings(\"ignore\", category=UserWarning) \n"
   ]
  },
  {
   "cell_type": "markdown",
   "metadata": {},
   "source": [
    "## Data Loading & Preprocessing"
   ]
  },
  {
   "cell_type": "code",
   "execution_count": 3,
   "metadata": {},
   "outputs": [
    {
     "name": "stdout",
     "output_type": "stream",
     "text": [
      "                                                text  hate_speech_idx\n",
      "0  [a, subsect, of, retard, hungarian, ohh, boy, ...                1\n",
      "1  [hiii, just, got, off, work, 444, is, mainli, ...                1\n",
      "2  [wow, i, guess, soyboy, are, the, same, in, ev...                1\n",
      "3  [owen, benjamin', soyboy, song, goe, for, ever...                1\n",
      "4  [y'all, hear, sumn, by, all, mean, i, live, in...                3\n",
      "5                                        [[removed]]                3\n",
      "6  [ah, a, liber, ha, slip, in, you, can, tell, b...                3\n",
      "7  [wouldn't, the, defend, or, whatev, they, are,...                0\n",
      "8                       ['inclusive', =, not, white]                0\n",
      "9  [“harvard, is, work, to, be, more, inclus, ”, ...                0\n",
      "Dataset Length: [22324]\n",
      "---- Number of [neutral] tweets: 5335 (23.9%)\n",
      "7     [wouldn't, the, defend, or, whatev, they, are,...\n",
      "8                          ['inclusive', =, not, white]\n",
      "9     [“harvard, is, work, to, be, more, inclus, ”, ...\n",
      "10    [oh, yeah, and, that, lawsuit, go, to, benefit...\n",
      "11    [-, ***a***nti-***c***aucasian, ***l***itig, *...\n",
      "Name: text, dtype: object\n",
      "---- Number of [HATEFUL] tweets: 16989 (76.1%)\n",
      "0    [a, subsect, of, retard, hungarian, ohh, boy, ...\n",
      "1    [hiii, just, got, off, work, 444, is, mainli, ...\n",
      "2    [wow, i, guess, soyboy, are, the, same, in, ev...\n",
      "3    [owen, benjamin', soyboy, song, goe, for, ever...\n",
      "4    [y'all, hear, sumn, by, all, mean, i, live, in...\n",
      "Name: text, dtype: object\n"
     ]
    }
   ],
   "source": [
    "pd.set_option('display.max_columns', None)\n",
    "df = pd.read_csv('datasets/reddit.csv')\n",
    "stemmer = PorterStemmer()\n",
    "\n",
    "\n",
    "# 22324 Posts\n",
    "df = df[['text', 'hate_speech_idx']]\n",
    "# NOTE: For neutral speech: hate_speech_idx == NaN (later replaced by '0')\n",
    "\n",
    "# print(df.head(10))    \n",
    "\n",
    "# Expand intertwined rows\n",
    "for i, row in df.iterrows():\n",
    "    text = row['text'].strip().split('\\n')\n",
    "    # Replace NaN with 0 for hate_speech_idx column.\n",
    "    type = '0' if pd.isnull(df.iloc[i, 1]) else row['hate_speech_idx'].strip('[]').split(',')[0]\n",
    "\n",
    "    row['text'], row['hate_speech_idx'] = text, type\n",
    "df = df.explode('text', ignore_index=True) # https://stackoverflow.com/questions/39011511/pandas-expand-rows-from-list-data-available-in-column\n",
    "\n",
    "def preprocess(text_string): # Ref: https://github.com/t-davidson/hate-speech-and-offensive-language/blob/master/classifier/final_classifier.ipynb\n",
    "    \"\"\" Accepts a text string and replaces:\n",
    "        1) urls with URLHERE\n",
    "        2) lots of whitespace with one instance\n",
    "        3) mentions with MENTIONHERE\n",
    "        Get standardized counts of urls and mentions w/o caring about specific people mentioned\n",
    "    @ retrun \n",
    "       List of stemmed words in a sentence\n",
    "    \"\"\"\n",
    "    space_pattern = '\\s+'\n",
    "    giant_url_regex = ('http[s]?://(?:[a-zA-Z]|[0-9]|[$-_@.&+]|'\n",
    "        '[!*\\(\\),]|(?:%[0-9a-fA-F][0-9a-fA-F]))+')\n",
    "    mention_regex = '@[\\w\\-]+'\n",
    "    parsed_text = re.sub(space_pattern, ' ', text_string)\n",
    "    parsed_text = re.sub(giant_url_regex, '', parsed_text)\n",
    "    parsed_text = re.sub(mention_regex, '', parsed_text)\n",
    "\n",
    "    parsed_text = \" \".join(re.split(\"[.,!?:\\t\\n\\\">]\", parsed_text.lower()))  # Doc: https://docs.python.org/3/library/re.html?highlight=split#re.split\n",
    "    stemmed_text = [stemmer.stem(t) for t in parsed_text.split()]\n",
    "\n",
    "    return stemmed_text[1:]\n",
    "\n",
    "df = pd.concat([df['text'].apply(preprocess), df['hate_speech_idx'].astype(int)], axis = 1)\n",
    "print(df.head(10))\n",
    "print('Dataset Length: [{}]'.format(len(df)))\n",
    "df_subclass = df.loc[df['hate_speech_idx']==0]\n",
    "print('---- Number of [neutral] tweets: {} ({}%)'.format(len(df_subclass), round(len(df_subclass)/len(df), 4) * 100))\n",
    "print(df_subclass['text'].head(5))\n",
    "df_subclass = df.loc[df['hate_speech_idx']!=0]\n",
    "print('---- Number of [HATEFUL] tweets: {} ({}%)'.format(len(df_subclass), round(len(df_subclass)/len(df), 4) * 100))\n",
    "print(df_subclass['text'].head(5))\n"
   ]
  },
  {
   "cell_type": "markdown",
   "metadata": {},
   "source": []
  }
 ],
 "metadata": {
  "interpreter": {
   "hash": "85eedf8b4204ad78ac47222a2560e6167ae5b523a86f7399688579048c4493e7"
  },
  "kernelspec": {
   "display_name": "Python 3.8.12 ('pytorch_m1_env')",
   "language": "python",
   "name": "python3"
  },
  "language_info": {
   "codemirror_mode": {
    "name": "ipython",
    "version": 3
   },
   "file_extension": ".py",
   "mimetype": "text/x-python",
   "name": "python",
   "nbconvert_exporter": "python",
   "pygments_lexer": "ipython3",
   "version": "3.8.12"
  },
  "orig_nbformat": 4
 },
 "nbformat": 4,
 "nbformat_minor": 2
}
