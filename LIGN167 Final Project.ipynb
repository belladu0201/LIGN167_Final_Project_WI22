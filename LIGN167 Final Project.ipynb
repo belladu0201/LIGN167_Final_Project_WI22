{
 "cells": [
  {
   "cell_type": "markdown",
   "id": "2822e631",
   "metadata": {},
   "source": [
    "# Import the packages"
   ]
  },
  {
   "cell_type": "code",
   "execution_count": 6,
   "id": "a2fd3da5",
   "metadata": {},
   "outputs": [],
   "source": [
    "import pandas as pd\n",
    "import numpy as np\n",
    "import torch"
   ]
  },
  {
   "cell_type": "markdown",
   "id": "a94b8df6",
   "metadata": {},
   "source": [
    "# Load the Datasets/Prepare the datasets"
   ]
  },
  {
   "cell_type": "code",
   "execution_count": 14,
   "id": "da0ca8c9",
   "metadata": {},
   "outputs": [
    {
     "data": {
      "text/html": [
       "<div>\n",
       "<style scoped>\n",
       "    .dataframe tbody tr th:only-of-type {\n",
       "        vertical-align: middle;\n",
       "    }\n",
       "\n",
       "    .dataframe tbody tr th {\n",
       "        vertical-align: top;\n",
       "    }\n",
       "\n",
       "    .dataframe thead th {\n",
       "        text-align: right;\n",
       "    }\n",
       "</style>\n",
       "<table border=\"1\" class=\"dataframe\">\n",
       "  <thead>\n",
       "    <tr style=\"text-align: right;\">\n",
       "      <th></th>\n",
       "      <th>tweet</th>\n",
       "      <th>offensive_language</th>\n",
       "    </tr>\n",
       "  </thead>\n",
       "  <tbody>\n",
       "    <tr>\n",
       "      <th>0</th>\n",
       "      <td>!!! RT @mayasolovely: As a woman you shouldn't...</td>\n",
       "      <td>0</td>\n",
       "    </tr>\n",
       "    <tr>\n",
       "      <th>1</th>\n",
       "      <td>!!!!! RT @mleew17: boy dats cold...tyga dwn ba...</td>\n",
       "      <td>3</td>\n",
       "    </tr>\n",
       "    <tr>\n",
       "      <th>2</th>\n",
       "      <td>!!!!!!! RT @UrKindOfBrand Dawg!!!! RT @80sbaby...</td>\n",
       "      <td>3</td>\n",
       "    </tr>\n",
       "    <tr>\n",
       "      <th>3</th>\n",
       "      <td>!!!!!!!!! RT @C_G_Anderson: @viva_based she lo...</td>\n",
       "      <td>2</td>\n",
       "    </tr>\n",
       "    <tr>\n",
       "      <th>4</th>\n",
       "      <td>!!!!!!!!!!!!! RT @ShenikaRoberts: The shit you...</td>\n",
       "      <td>6</td>\n",
       "    </tr>\n",
       "    <tr>\n",
       "      <th>5</th>\n",
       "      <td>!!!!!!!!!!!!!!!!!!\"@T_Madison_x: The shit just...</td>\n",
       "      <td>2</td>\n",
       "    </tr>\n",
       "    <tr>\n",
       "      <th>6</th>\n",
       "      <td>!!!!!!\"@__BrighterDays: I can not just sit up ...</td>\n",
       "      <td>3</td>\n",
       "    </tr>\n",
       "    <tr>\n",
       "      <th>7</th>\n",
       "      <td>!!!!&amp;#8220;@selfiequeenbri: cause I'm tired of...</td>\n",
       "      <td>3</td>\n",
       "    </tr>\n",
       "    <tr>\n",
       "      <th>8</th>\n",
       "      <td>\" &amp;amp; you might not get ya bitch back &amp;amp; ...</td>\n",
       "      <td>3</td>\n",
       "    </tr>\n",
       "    <tr>\n",
       "      <th>9</th>\n",
       "      <td>\" @rhythmixx_ :hobbies include: fighting Maria...</td>\n",
       "      <td>2</td>\n",
       "    </tr>\n",
       "  </tbody>\n",
       "</table>\n",
       "</div>"
      ],
      "text/plain": [
       "                                               tweet  offensive_language\n",
       "0  !!! RT @mayasolovely: As a woman you shouldn't...                   0\n",
       "1  !!!!! RT @mleew17: boy dats cold...tyga dwn ba...                   3\n",
       "2  !!!!!!! RT @UrKindOfBrand Dawg!!!! RT @80sbaby...                   3\n",
       "3  !!!!!!!!! RT @C_G_Anderson: @viva_based she lo...                   2\n",
       "4  !!!!!!!!!!!!! RT @ShenikaRoberts: The shit you...                   6\n",
       "5  !!!!!!!!!!!!!!!!!!\"@T_Madison_x: The shit just...                   2\n",
       "6  !!!!!!\"@__BrighterDays: I can not just sit up ...                   3\n",
       "7  !!!!&#8220;@selfiequeenbri: cause I'm tired of...                   3\n",
       "8  \" &amp; you might not get ya bitch back &amp; ...                   3\n",
       "9  \" @rhythmixx_ :hobbies include: fighting Maria...                   2"
      ]
     },
     "execution_count": 14,
     "metadata": {},
     "output_type": "execute_result"
    }
   ],
   "source": [
    "# Load the twitter DS\n",
    "twitter = pd.read_csv('twitter.csv') # https://github.com/t-davidson/hate-speech-and-offensive-language\n",
    "twitter = twitter[['tweet', 'offensive_language']]\n",
    "twitter.head(10)\n",
    "\n",
    "# pip install kaggle"
   ]
  },
  {
   "cell_type": "code",
   "execution_count": 15,
   "id": "7a561e85",
   "metadata": {},
   "outputs": [
    {
     "data": {
      "text/html": [
       "<div>\n",
       "<style scoped>\n",
       "    .dataframe tbody tr th:only-of-type {\n",
       "        vertical-align: middle;\n",
       "    }\n",
       "\n",
       "    .dataframe tbody tr th {\n",
       "        vertical-align: top;\n",
       "    }\n",
       "\n",
       "    .dataframe thead th {\n",
       "        text-align: right;\n",
       "    }\n",
       "</style>\n",
       "<table border=\"1\" class=\"dataframe\">\n",
       "  <thead>\n",
       "    <tr style=\"text-align: right;\">\n",
       "      <th></th>\n",
       "      <th>id</th>\n",
       "      <th>text</th>\n",
       "      <th>hate_speech_idx</th>\n",
       "      <th>response</th>\n",
       "    </tr>\n",
       "  </thead>\n",
       "  <tbody>\n",
       "    <tr>\n",
       "      <th>0</th>\n",
       "      <td>1. 39869714\\n</td>\n",
       "      <td>1. i joined gab to remind myself how retarded ...</td>\n",
       "      <td>[1]</td>\n",
       "      <td>[\"Using words that insult one group while defe...</td>\n",
       "    </tr>\n",
       "    <tr>\n",
       "      <th>1</th>\n",
       "      <td>1. 39845588\\n2. \\t39848775\\n3. \\t\\t39911017\\n</td>\n",
       "      <td>1. This is what the left is really scared of. ...</td>\n",
       "      <td>[3]</td>\n",
       "      <td>['You can disagree with someones opinion witho...</td>\n",
       "    </tr>\n",
       "    <tr>\n",
       "      <th>2</th>\n",
       "      <td>1. 37485560\\n2. \\t37528625\\n</td>\n",
       "      <td>1. It makes you an asshole.\\n2. \\tGive it to a...</td>\n",
       "      <td>[2]</td>\n",
       "      <td>['Your argument is more rational if you leave ...</td>\n",
       "    </tr>\n",
       "    <tr>\n",
       "      <th>3</th>\n",
       "      <td>1. 39787626\\n2. \\t39794481\\n</td>\n",
       "      <td>1. So they manage to provide a whole lot of da...</td>\n",
       "      <td>[2]</td>\n",
       "      <td>[\"You shouldn't generalize a specific group or...</td>\n",
       "    </tr>\n",
       "    <tr>\n",
       "      <th>4</th>\n",
       "      <td>1. 37957930\\n2. \\t39953348\\n3. \\t\\t39965219\\n</td>\n",
       "      <td>1. Hi there, i,m Keith, i hope you are doing w...</td>\n",
       "      <td>[3]</td>\n",
       "      <td>['If someone is rude it is better to ignore th...</td>\n",
       "    </tr>\n",
       "  </tbody>\n",
       "</table>\n",
       "</div>"
      ],
      "text/plain": [
       "                                              id  \\\n",
       "0                                  1. 39869714\\n   \n",
       "1  1. 39845588\\n2. \\t39848775\\n3. \\t\\t39911017\\n   \n",
       "2                   1. 37485560\\n2. \\t37528625\\n   \n",
       "3                   1. 39787626\\n2. \\t39794481\\n   \n",
       "4  1. 37957930\\n2. \\t39953348\\n3. \\t\\t39965219\\n   \n",
       "\n",
       "                                                text hate_speech_idx  \\\n",
       "0  1. i joined gab to remind myself how retarded ...             [1]   \n",
       "1  1. This is what the left is really scared of. ...             [3]   \n",
       "2  1. It makes you an asshole.\\n2. \\tGive it to a...             [2]   \n",
       "3  1. So they manage to provide a whole lot of da...             [2]   \n",
       "4  1. Hi there, i,m Keith, i hope you are doing w...             [3]   \n",
       "\n",
       "                                            response  \n",
       "0  [\"Using words that insult one group while defe...  \n",
       "1  ['You can disagree with someones opinion witho...  \n",
       "2  ['Your argument is more rational if you leave ...  \n",
       "3  [\"You shouldn't generalize a specific group or...  \n",
       "4  ['If someone is rude it is better to ignore th...  "
      ]
     },
     "execution_count": 15,
     "metadata": {},
     "output_type": "execute_result"
    }
   ],
   "source": [
    "\n",
    "\n",
    "\n",
    "\n",
    "\n",
    "reddit = pd.read_csv('reddit.csv') # https://github.com/jing-qian/A-Benchmark-Dataset-for-Learning-to-Intervene-in-Online-Hate-Speech/tree/master/data\n",
    "gab = pd.read_csv('gab.csv')\n",
    "\n",
    "reddit.head()\n",
    "gab.head()"
   ]
  },
  {
   "cell_type": "markdown",
   "id": "7ed4383e",
   "metadata": {},
   "source": [
    "# Build Data Preprocessing Pipeline"
   ]
  },
  {
   "cell_type": "code",
   "execution_count": null,
   "id": "7f063da8",
   "metadata": {},
   "outputs": [],
   "source": []
  }
 ],
 "metadata": {
  "kernelspec": {
   "display_name": "Python 3 (ipykernel)",
   "language": "python",
   "name": "python3"
  },
  "language_info": {
   "codemirror_mode": {
    "name": "ipython",
    "version": 3
   },
   "file_extension": ".py",
   "mimetype": "text/x-python",
   "name": "python",
   "nbconvert_exporter": "python",
   "pygments_lexer": "ipython3",
   "version": "3.8.12"
  }
 },
 "nbformat": 4,
 "nbformat_minor": 5
}
