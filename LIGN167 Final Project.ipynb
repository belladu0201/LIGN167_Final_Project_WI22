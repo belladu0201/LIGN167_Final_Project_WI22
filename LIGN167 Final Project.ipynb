{
 "cells": [
  {
   "cell_type": "markdown",
   "id": "2822e631",
   "metadata": {},
   "source": [
    "# Import the packages"
   ]
  },
  {
   "cell_type": "code",
   "execution_count": 4,
   "id": "a2fd3da5",
   "metadata": {},
   "outputs": [],
   "source": [
    "import pandas as pd\n",
    "import numpy as np\n",
    "import ujson as json\n",
    "import torch\n",
    "from transformers import BertTokenizer"
   ]
  },
  {
   "cell_type": "markdown",
   "id": "a94b8df6",
   "metadata": {},
   "source": [
    "# Load/Prepare Datasets"
   ]
  },
  {
   "cell_type": "code",
   "execution_count": 30,
   "id": "884768d8",
   "metadata": {},
   "outputs": [
    {
     "name": "stdout",
     "output_type": "stream",
     "text": [
      "!!! RT @mayasolovely: As a woman you shouldn't complain about cleaning up your house. &amp; as a man you should always take the trash out...\n",
      "['!', '!', '!', 'rt', '@', 'maya', '##sol', '##ove', '##ly', ':', 'as', 'a', 'woman', 'you', 'shouldn', \"'\", 't', 'complain', 'about', 'cleaning', 'up', 'your', 'house', '.', '&', 'amp', ';', 'as', 'a', 'man', 'you', 'should', 'always', 'take', 'the', 'trash', 'out', '.', '.', '.']\n",
      "[999, 999, 999, 19387, 1030, 9815, 19454, 21818, 2135, 1024, 2004, 1037, 2450, 2017, 5807, 1005, 1056, 17612, 2055, 9344, 2039, 2115, 2160, 1012, 1004, 23713, 1025, 2004, 1037, 2158, 2017, 2323, 2467, 2202, 1996, 11669, 2041, 1012, 1012, 1012]\n"
     ]
    }
   ],
   "source": [
    "# Load the twitter DS\n",
    "\n",
    "# df = pd.read_csv(PATH['twitter'], names = ['tweet', 'hate_speech'])\n",
    "\n",
    "# 24784\n",
    "df = pd.read_csv('datasets/twitter.csv') # https://github.com/t-davidson/hate-speech-and-offensive-language\n",
    "# print(df.head(10))\n",
    "\n",
    "tokenizer = BertTokenizer.from_pretrained('bert-base-uncased', do_lower_case=True)\n",
    "\n",
    "tweets = df.loc[:,'tweet'].values\n",
    "labels = df.loc[:,'hate_speech'].values\n",
    "\n",
    "ids = []\n",
    "atn_mask = []\n",
    "# encoded = []\n",
    "for tweet in tweets:\n",
    "    encoded = tokenizer.encode_plus(tweet, add_special_tokens=True)\n",
    "    ids.append(encoded['input_ids'])\n",
    "\n",
    "    print(tweet)\n",
    "    print(tokenizer.tokenize(tweet))\n",
    "    print(tokenizer.convert_tokens_to_ids(tokenizer.tokenize(tweet)))\n",
    "    break\n",
    "    \n",
    "# print(len(df_tokenized)) \n",
    "# print(tweets[:10])\n",
    "# print(ids[:10])\n",
    "\n"
   ]
  },
  {
   "cell_type": "code",
   "execution_count": 12,
   "id": "0160cf7c",
   "metadata": {},
   "outputs": [
    {
     "ename": "KeyboardInterrupt",
     "evalue": "",
     "output_type": "error",
     "traceback": [
      "\u001b[0;31m---------------------------------------------------------------------------\u001b[0m",
      "\u001b[0;31mKeyboardInterrupt\u001b[0m                         Traceback (most recent call last)",
      "\u001b[1;32m/Users/KyleWang/Desktop/LIGN167_Final_Project_WI22/LIGN167 Final Project.ipynb Cell 5'\u001b[0m in \u001b[0;36m<module>\u001b[0;34m\u001b[0m\n\u001b[1;32m      <a href='vscode-notebook-cell:/Users/KyleWang/Desktop/LIGN167_Final_Project_WI22/LIGN167%20Final%20Project.ipynb#ch0000004?line=0'>1</a>\u001b[0m \u001b[39m# pd.set_option('display.max_columns', None)\u001b[39;00m\n\u001b[1;32m      <a href='vscode-notebook-cell:/Users/KyleWang/Desktop/LIGN167_Final_Project_WI22/LIGN167%20Final%20Project.ipynb#ch0000004?line=1'>2</a>\u001b[0m \u001b[39m# pd.set_option('display.max_rows', None)\u001b[39;00m\n\u001b[1;32m      <a href='vscode-notebook-cell:/Users/KyleWang/Desktop/LIGN167_Final_Project_WI22/LIGN167%20Final%20Project.ipynb#ch0000004?line=2'>3</a>\u001b[0m parler \u001b[39m=\u001b[39m \u001b[39mmap\u001b[39m(json\u001b[39m.\u001b[39mloads, \u001b[39mopen\u001b[39m(\u001b[39m'\u001b[39m\u001b[39m./datasets/parler_pretrain.ndjson\u001b[39m\u001b[39m'\u001b[39m))\n\u001b[0;32m----> <a href='vscode-notebook-cell:/Users/KyleWang/Desktop/LIGN167_Final_Project_WI22/LIGN167%20Final%20Project.ipynb#ch0000004?line=3'>4</a>\u001b[0m parler \u001b[39m=\u001b[39m pd\u001b[39m.\u001b[39;49mDataFrame\u001b[39m.\u001b[39;49mfrom_records(parler)\n\u001b[1;32m      <a href='vscode-notebook-cell:/Users/KyleWang/Desktop/LIGN167_Final_Project_WI22/LIGN167%20Final%20Project.ipynb#ch0000004?line=4'>5</a>\u001b[0m parler \u001b[39m=\u001b[39m parler\u001b[39m.\u001b[39mloc[(parler[\u001b[39m'\u001b[39m\u001b[39mbody\u001b[39m\u001b[39m'\u001b[39m]\u001b[39m!=\u001b[39m\u001b[39m'\u001b[39m\u001b[39m'\u001b[39m)] \u001b[39m# Filter empty body. Final len: 636420 outof 1094836 (58.12925406179556%)\u001b[39;00m\n\u001b[1;32m      <a href='vscode-notebook-cell:/Users/KyleWang/Desktop/LIGN167_Final_Project_WI22/LIGN167%20Final%20Project.ipynb#ch0000004?line=5'>6</a>\u001b[0m parler \u001b[39m=\u001b[39m parler[[\u001b[39m'\u001b[39m\u001b[39mbody\u001b[39m\u001b[39m'\u001b[39m]]\n",
      "File \u001b[0;32m~/opt/miniconda3/envs/pytorch_m1_env/lib/python3.8/site-packages/pandas/core/frame.py:2273\u001b[0m, in \u001b[0;36mDataFrame.from_records\u001b[0;34m(cls, data, index, exclude, columns, coerce_float, nrows)\u001b[0m\n\u001b[1;32m   <a href='file:///~/opt/miniconda3/envs/pytorch_m1_env/lib/python3.8/site-packages/pandas/core/frame.py?line=2269'>2270</a>\u001b[0m     columns \u001b[39m=\u001b[39m columns\u001b[39m.\u001b[39mdrop(exclude)\n\u001b[1;32m   <a href='file:///~/opt/miniconda3/envs/pytorch_m1_env/lib/python3.8/site-packages/pandas/core/frame.py?line=2271'>2272</a>\u001b[0m manager \u001b[39m=\u001b[39m get_option(\u001b[39m\"\u001b[39m\u001b[39mmode.data_manager\u001b[39m\u001b[39m\"\u001b[39m)\n\u001b[0;32m-> <a href='file:///~/opt/miniconda3/envs/pytorch_m1_env/lib/python3.8/site-packages/pandas/core/frame.py?line=2272'>2273</a>\u001b[0m mgr \u001b[39m=\u001b[39m arrays_to_mgr(arrays, columns, result_index, typ\u001b[39m=\u001b[39;49mmanager)\n\u001b[1;32m   <a href='file:///~/opt/miniconda3/envs/pytorch_m1_env/lib/python3.8/site-packages/pandas/core/frame.py?line=2274'>2275</a>\u001b[0m \u001b[39mreturn\u001b[39;00m \u001b[39mcls\u001b[39m(mgr)\n",
      "File \u001b[0;32m~/opt/miniconda3/envs/pytorch_m1_env/lib/python3.8/site-packages/pandas/core/internals/construction.py:156\u001b[0m, in \u001b[0;36marrays_to_mgr\u001b[0;34m(arrays, columns, index, dtype, verify_integrity, typ, consolidate)\u001b[0m\n\u001b[1;32m    <a href='file:///~/opt/miniconda3/envs/pytorch_m1_env/lib/python3.8/site-packages/pandas/core/internals/construction.py?line=152'>153</a>\u001b[0m axes \u001b[39m=\u001b[39m [columns, index]\n\u001b[1;32m    <a href='file:///~/opt/miniconda3/envs/pytorch_m1_env/lib/python3.8/site-packages/pandas/core/internals/construction.py?line=154'>155</a>\u001b[0m \u001b[39mif\u001b[39;00m typ \u001b[39m==\u001b[39m \u001b[39m\"\u001b[39m\u001b[39mblock\u001b[39m\u001b[39m\"\u001b[39m:\n\u001b[0;32m--> <a href='file:///~/opt/miniconda3/envs/pytorch_m1_env/lib/python3.8/site-packages/pandas/core/internals/construction.py?line=155'>156</a>\u001b[0m     \u001b[39mreturn\u001b[39;00m create_block_manager_from_column_arrays(\n\u001b[1;32m    <a href='file:///~/opt/miniconda3/envs/pytorch_m1_env/lib/python3.8/site-packages/pandas/core/internals/construction.py?line=156'>157</a>\u001b[0m         arrays, axes, consolidate\u001b[39m=\u001b[39;49mconsolidate\n\u001b[1;32m    <a href='file:///~/opt/miniconda3/envs/pytorch_m1_env/lib/python3.8/site-packages/pandas/core/internals/construction.py?line=157'>158</a>\u001b[0m     )\n\u001b[1;32m    <a href='file:///~/opt/miniconda3/envs/pytorch_m1_env/lib/python3.8/site-packages/pandas/core/internals/construction.py?line=158'>159</a>\u001b[0m \u001b[39melif\u001b[39;00m typ \u001b[39m==\u001b[39m \u001b[39m\"\u001b[39m\u001b[39marray\u001b[39m\u001b[39m\"\u001b[39m:\n\u001b[1;32m    <a href='file:///~/opt/miniconda3/envs/pytorch_m1_env/lib/python3.8/site-packages/pandas/core/internals/construction.py?line=159'>160</a>\u001b[0m     \u001b[39mreturn\u001b[39;00m ArrayManager(arrays, [index, columns])\n",
      "File \u001b[0;32m~/opt/miniconda3/envs/pytorch_m1_env/lib/python3.8/site-packages/pandas/core/internals/managers.py:1954\u001b[0m, in \u001b[0;36mcreate_block_manager_from_column_arrays\u001b[0;34m(arrays, axes, consolidate)\u001b[0m\n\u001b[1;32m   <a href='file:///~/opt/miniconda3/envs/pytorch_m1_env/lib/python3.8/site-packages/pandas/core/internals/managers.py?line=1936'>1937</a>\u001b[0m \u001b[39mdef\u001b[39;00m \u001b[39mcreate_block_manager_from_column_arrays\u001b[39m(\n\u001b[1;32m   <a href='file:///~/opt/miniconda3/envs/pytorch_m1_env/lib/python3.8/site-packages/pandas/core/internals/managers.py?line=1937'>1938</a>\u001b[0m     arrays: \u001b[39mlist\u001b[39m[ArrayLike],\n\u001b[1;32m   <a href='file:///~/opt/miniconda3/envs/pytorch_m1_env/lib/python3.8/site-packages/pandas/core/internals/managers.py?line=1938'>1939</a>\u001b[0m     axes: \u001b[39mlist\u001b[39m[Index],\n\u001b[0;32m   (...)\u001b[0m\n\u001b[1;32m   <a href='file:///~/opt/miniconda3/envs/pytorch_m1_env/lib/python3.8/site-packages/pandas/core/internals/managers.py?line=1949'>1950</a>\u001b[0m     \u001b[39m# These last three are sufficient to allow us to safely pass\u001b[39;00m\n\u001b[1;32m   <a href='file:///~/opt/miniconda3/envs/pytorch_m1_env/lib/python3.8/site-packages/pandas/core/internals/managers.py?line=1950'>1951</a>\u001b[0m     \u001b[39m#  verify_integrity=False below.\u001b[39;00m\n\u001b[1;32m   <a href='file:///~/opt/miniconda3/envs/pytorch_m1_env/lib/python3.8/site-packages/pandas/core/internals/managers.py?line=1952'>1953</a>\u001b[0m     \u001b[39mtry\u001b[39;00m:\n\u001b[0;32m-> <a href='file:///~/opt/miniconda3/envs/pytorch_m1_env/lib/python3.8/site-packages/pandas/core/internals/managers.py?line=1953'>1954</a>\u001b[0m         blocks \u001b[39m=\u001b[39m _form_blocks(arrays, consolidate)\n\u001b[1;32m   <a href='file:///~/opt/miniconda3/envs/pytorch_m1_env/lib/python3.8/site-packages/pandas/core/internals/managers.py?line=1954'>1955</a>\u001b[0m         mgr \u001b[39m=\u001b[39m BlockManager(blocks, axes, verify_integrity\u001b[39m=\u001b[39m\u001b[39mFalse\u001b[39;00m)\n\u001b[1;32m   <a href='file:///~/opt/miniconda3/envs/pytorch_m1_env/lib/python3.8/site-packages/pandas/core/internals/managers.py?line=1955'>1956</a>\u001b[0m     \u001b[39mexcept\u001b[39;00m \u001b[39mValueError\u001b[39;00m \u001b[39mas\u001b[39;00m e:\n",
      "File \u001b[0;32m~/opt/miniconda3/envs/pytorch_m1_env/lib/python3.8/site-packages/pandas/core/internals/managers.py:2028\u001b[0m, in \u001b[0;36m_form_blocks\u001b[0;34m(arrays, consolidate)\u001b[0m\n\u001b[1;32m   <a href='file:///~/opt/miniconda3/envs/pytorch_m1_env/lib/python3.8/site-packages/pandas/core/internals/managers.py?line=2024'>2025</a>\u001b[0m \u001b[39mif\u001b[39;00m \u001b[39missubclass\u001b[39m(dtype\u001b[39m.\u001b[39mtype, (\u001b[39mstr\u001b[39m, \u001b[39mbytes\u001b[39m)):\n\u001b[1;32m   <a href='file:///~/opt/miniconda3/envs/pytorch_m1_env/lib/python3.8/site-packages/pandas/core/internals/managers.py?line=2025'>2026</a>\u001b[0m     dtype \u001b[39m=\u001b[39m np\u001b[39m.\u001b[39mdtype(\u001b[39mobject\u001b[39m)\n\u001b[0;32m-> <a href='file:///~/opt/miniconda3/envs/pytorch_m1_env/lib/python3.8/site-packages/pandas/core/internals/managers.py?line=2027'>2028</a>\u001b[0m values, placement \u001b[39m=\u001b[39m _stack_arrays(\u001b[39mlist\u001b[39;49m(tup_block), dtype)\n\u001b[1;32m   <a href='file:///~/opt/miniconda3/envs/pytorch_m1_env/lib/python3.8/site-packages/pandas/core/internals/managers.py?line=2028'>2029</a>\u001b[0m \u001b[39mif\u001b[39;00m is_dtlike:\n\u001b[1;32m   <a href='file:///~/opt/miniconda3/envs/pytorch_m1_env/lib/python3.8/site-packages/pandas/core/internals/managers.py?line=2029'>2030</a>\u001b[0m     values \u001b[39m=\u001b[39m ensure_wrapped_if_datetimelike(values)\n",
      "File \u001b[0;32m~/opt/miniconda3/envs/pytorch_m1_env/lib/python3.8/site-packages/pandas/core/internals/managers.py:2069\u001b[0m, in \u001b[0;36m_stack_arrays\u001b[0;34m(tuples, dtype)\u001b[0m\n\u001b[1;32m   <a href='file:///~/opt/miniconda3/envs/pytorch_m1_env/lib/python3.8/site-packages/pandas/core/internals/managers.py?line=2066'>2067</a>\u001b[0m stacked \u001b[39m=\u001b[39m np\u001b[39m.\u001b[39mempty(shape, dtype\u001b[39m=\u001b[39mdtype)\n\u001b[1;32m   <a href='file:///~/opt/miniconda3/envs/pytorch_m1_env/lib/python3.8/site-packages/pandas/core/internals/managers.py?line=2067'>2068</a>\u001b[0m \u001b[39mfor\u001b[39;00m i, arr \u001b[39min\u001b[39;00m \u001b[39menumerate\u001b[39m(arrays):\n\u001b[0;32m-> <a href='file:///~/opt/miniconda3/envs/pytorch_m1_env/lib/python3.8/site-packages/pandas/core/internals/managers.py?line=2068'>2069</a>\u001b[0m     stacked[i] \u001b[39m=\u001b[39m arr\n\u001b[1;32m   <a href='file:///~/opt/miniconda3/envs/pytorch_m1_env/lib/python3.8/site-packages/pandas/core/internals/managers.py?line=2070'>2071</a>\u001b[0m \u001b[39mreturn\u001b[39;00m stacked, placement\n",
      "\u001b[0;31mKeyboardInterrupt\u001b[0m: "
     ]
    }
   ],
   "source": [
    "# pd.set_option('display.max_columns', None)\n",
    "# pd.set_option('display.max_rows', None)\n",
    "parler = map(json.loads, open('./datasets/parler_pretrain.ndjson'))\n",
    "parler = pd.DataFrame.from_records(parler)\n",
    "parler = parler.loc[(parler['body']!='')] # Filter empty body. Final len: 636420 outof 1094836 (58.12925406179556%)\n",
    "parler = parler[['body']]\n",
    "print(len(parler))\n",
    "parler.head(100)"
   ]
  },
  {
   "cell_type": "code",
   "execution_count": null,
   "id": "da0ca8c9",
   "metadata": {},
   "outputs": [
    {
     "data": {
      "text/html": [
       "<div>\n",
       "<style scoped>\n",
       "    .dataframe tbody tr th:only-of-type {\n",
       "        vertical-align: middle;\n",
       "    }\n",
       "\n",
       "    .dataframe tbody tr th {\n",
       "        vertical-align: top;\n",
       "    }\n",
       "\n",
       "    .dataframe thead th {\n",
       "        text-align: right;\n",
       "    }\n",
       "</style>\n",
       "<table border=\"1\" class=\"dataframe\">\n",
       "  <thead>\n",
       "    <tr style=\"text-align: right;\">\n",
       "      <th></th>\n",
       "      <th>tweet</th>\n",
       "      <th>offensive_language</th>\n",
       "    </tr>\n",
       "  </thead>\n",
       "  <tbody>\n",
       "    <tr>\n",
       "      <th>0</th>\n",
       "      <td>!!! RT @mayasolovely: As a woman you shouldn't...</td>\n",
       "      <td>0</td>\n",
       "    </tr>\n",
       "    <tr>\n",
       "      <th>1</th>\n",
       "      <td>!!!!! RT @mleew17: boy dats cold...tyga dwn ba...</td>\n",
       "      <td>3</td>\n",
       "    </tr>\n",
       "    <tr>\n",
       "      <th>2</th>\n",
       "      <td>!!!!!!! RT @UrKindOfBrand Dawg!!!! RT @80sbaby...</td>\n",
       "      <td>3</td>\n",
       "    </tr>\n",
       "    <tr>\n",
       "      <th>3</th>\n",
       "      <td>!!!!!!!!! RT @C_G_Anderson: @viva_based she lo...</td>\n",
       "      <td>2</td>\n",
       "    </tr>\n",
       "    <tr>\n",
       "      <th>4</th>\n",
       "      <td>!!!!!!!!!!!!! RT @ShenikaRoberts: The shit you...</td>\n",
       "      <td>6</td>\n",
       "    </tr>\n",
       "    <tr>\n",
       "      <th>5</th>\n",
       "      <td>!!!!!!!!!!!!!!!!!!\"@T_Madison_x: The shit just...</td>\n",
       "      <td>2</td>\n",
       "    </tr>\n",
       "    <tr>\n",
       "      <th>6</th>\n",
       "      <td>!!!!!!\"@__BrighterDays: I can not just sit up ...</td>\n",
       "      <td>3</td>\n",
       "    </tr>\n",
       "    <tr>\n",
       "      <th>7</th>\n",
       "      <td>!!!!&amp;#8220;@selfiequeenbri: cause I'm tired of...</td>\n",
       "      <td>3</td>\n",
       "    </tr>\n",
       "    <tr>\n",
       "      <th>8</th>\n",
       "      <td>\" &amp;amp; you might not get ya bitch back &amp;amp; ...</td>\n",
       "      <td>3</td>\n",
       "    </tr>\n",
       "    <tr>\n",
       "      <th>9</th>\n",
       "      <td>\" @rhythmixx_ :hobbies include: fighting Maria...</td>\n",
       "      <td>2</td>\n",
       "    </tr>\n",
       "  </tbody>\n",
       "</table>\n",
       "</div>"
      ],
      "text/plain": [
       "                                               tweet  offensive_language\n",
       "0  !!! RT @mayasolovely: As a woman you shouldn't...                   0\n",
       "1  !!!!! RT @mleew17: boy dats cold...tyga dwn ba...                   3\n",
       "2  !!!!!!! RT @UrKindOfBrand Dawg!!!! RT @80sbaby...                   3\n",
       "3  !!!!!!!!! RT @C_G_Anderson: @viva_based she lo...                   2\n",
       "4  !!!!!!!!!!!!! RT @ShenikaRoberts: The shit you...                   6\n",
       "5  !!!!!!!!!!!!!!!!!!\"@T_Madison_x: The shit just...                   2\n",
       "6  !!!!!!\"@__BrighterDays: I can not just sit up ...                   3\n",
       "7  !!!!&#8220;@selfiequeenbri: cause I'm tired of...                   3\n",
       "8  \" &amp; you might not get ya bitch back &amp; ...                   3\n",
       "9  \" @rhythmixx_ :hobbies include: fighting Maria...                   2"
      ]
     },
     "execution_count": 3,
     "metadata": {},
     "output_type": "execute_result"
    }
   ],
   "source": []
  },
  {
   "cell_type": "code",
   "execution_count": null,
   "id": "7a561e85",
   "metadata": {},
   "outputs": [
    {
     "ename": "NameError",
     "evalue": "name 'reddit' is not defined",
     "output_type": "error",
     "traceback": [
      "\u001b[0;31m---------------------------------------------------------------------------\u001b[0m",
      "\u001b[0;31mNameError\u001b[0m                                 Traceback (most recent call last)",
      "\u001b[1;32m/Users/KyleWang/Desktop/LIGN167_Final_Project_WI22/LIGN167 Final Project.ipynb Cell 7'\u001b[0m in \u001b[0;36m<module>\u001b[0;34m\u001b[0m\n\u001b[0;32m----> <a href='vscode-notebook-cell:/Users/KyleWang/Desktop/LIGN167_Final_Project_WI22/LIGN167%20Final%20Project.ipynb#ch0000005?line=0'>1</a>\u001b[0m reddit\u001b[39m.\u001b[39mhead()\n\u001b[1;32m      <a href='vscode-notebook-cell:/Users/KyleWang/Desktop/LIGN167_Final_Project_WI22/LIGN167%20Final%20Project.ipynb#ch0000005?line=1'>2</a>\u001b[0m gab\u001b[39m.\u001b[39mhead()\n",
      "\u001b[0;31mNameError\u001b[0m: name 'reddit' is not defined"
     ]
    }
   ],
   "source": [
    "\n",
    "\n",
    "reddit.head()\n",
    "gab.head()"
   ]
  },
  {
   "cell_type": "code",
   "execution_count": null,
   "id": "218dbbd0",
   "metadata": {},
   "outputs": [],
   "source": [
    "reddit = pd.read_csv('reddit.csv') # https://github.com/jing-qian/A-Benchmark-Dataset-for-Learning-to-Intervene-in-Online-Hate-Speech/tree/master/data\n"
   ]
  },
  {
   "cell_type": "code",
   "execution_count": null,
   "id": "3e352111",
   "metadata": {},
   "outputs": [],
   "source": [
    "gab = pd.read_csv('gab.csv')"
   ]
  },
  {
   "cell_type": "markdown",
   "id": "7ed4383e",
   "metadata": {},
   "source": [
    "# Build Data Preprocessing Pipeline"
   ]
  },
  {
   "cell_type": "code",
   "execution_count": null,
   "id": "7f063da8",
   "metadata": {},
   "outputs": [
    {
     "ename": "ModuleNotFoundError",
     "evalue": "No module named 'transformers'",
     "output_type": "error",
     "traceback": [
      "\u001b[0;31m---------------------------------------------------------------------------\u001b[0m",
      "\u001b[0;31mModuleNotFoundError\u001b[0m                       Traceback (most recent call last)",
      "\u001b[1;32m/Users/KyleWang/Desktop/LIGN167_Final_Project_WI22/LIGN167 Final Project.ipynb Cell 11'\u001b[0m in \u001b[0;36m<module>\u001b[0;34m\u001b[0m\n\u001b[0;32m----> <a href='vscode-notebook-cell:/Users/KyleWang/Desktop/LIGN167_Final_Project_WI22/LIGN167%20Final%20Project.ipynb#ch0000009?line=0'>1</a>\u001b[0m \u001b[39mfrom\u001b[39;00m \u001b[39mtransformers\u001b[39;00m \u001b[39mimport\u001b[39;00m BertTokenizer\n\u001b[1;32m      <a href='vscode-notebook-cell:/Users/KyleWang/Desktop/LIGN167_Final_Project_WI22/LIGN167%20Final%20Project.ipynb#ch0000009?line=1'>2</a>\u001b[0m twitter\u001b[39m.\u001b[39mloc[offensive_language \u001b[39m!=\u001b[39m \u001b[39m0\u001b[39m]\u001b[39m.\u001b[39msample(\u001b[39m10\u001b[39m)[\u001b[39m'\u001b[39m\u001b[39mtweet\u001b[39m\u001b[39m'\u001b[39m]\n",
      "\u001b[0;31mModuleNotFoundError\u001b[0m: No module named 'transformers'"
     ]
    }
   ],
   "source": [
    "# pip install transformers\n",
    "from transformers import BertTokenizer\n",
    "twitter.loc[offnsive_language != 0].sam'ple(10)['tweet']"
   ]
  }
 ],
 "metadata": {
  "kernelspec": {
   "display_name": "Python 3 (ipykernel)",
   "language": "python",
   "name": "python3"
  },
  "language_info": {
   "codemirror_mode": {
    "name": "ipython",
    "version": 3
   },
   "file_extension": ".py",
   "mimetype": "text/x-python",
   "name": "python",
   "nbconvert_exporter": "python",
   "pygments_lexer": "ipython3",
   "version": "3.8.12"
  }
 },
 "nbformat": 4,
 "nbformat_minor": 5
}
